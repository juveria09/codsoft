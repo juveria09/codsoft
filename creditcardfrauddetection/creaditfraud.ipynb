{
 "cells": [
  {
   "cell_type": "code",
   "execution_count": 1,
   "id": "a0c66898-cfb2-4653-a727-736baf44274d",
   "metadata": {},
   "outputs": [],
   "source": [
    "# Step 1: Import Libraries\n",
    "import pandas as pd\n",
    "import numpy as np\n",
    "from sklearn.model_selection import train_test_split\n",
    "from sklearn.preprocessing import LabelEncoder\n",
    "from sklearn.linear_model import LogisticRegression\n",
    "from sklearn.tree import DecisionTreeClassifier\n",
    "from sklearn.ensemble import RandomForestClassifier\n",
    "from sklearn.metrics import classification_report, confusion_matrix, roc_auc_score\n",
    "import seaborn as sns\n",
    "import matplotlib.pyplot as plt\n",
    "\n"
   ]
  },
  {
   "cell_type": "code",
   "execution_count": 2,
   "id": "9eaac855-5b43-4c71-9df1-f9c1b129c10d",
   "metadata": {},
   "outputs": [],
   "source": [
    "# Step 2: Load Data\n",
    "train_df = pd.read_csv(\"fraudTrain.csv\")\n",
    "test_df = pd.read_csv(\"fraudTest.csv\")\n",
    "\n"
   ]
  },
  {
   "cell_type": "code",
   "execution_count": 3,
   "id": "1d724576-7f53-4cdc-9b42-2176836d42d3",
   "metadata": {},
   "outputs": [],
   "source": [
    "# Step 3: Combine train + test for consistent preprocessing\n",
    "df = pd.concat([train_df, test_df])\n",
    "\n"
   ]
  },
  {
   "cell_type": "code",
   "execution_count": 4,
   "id": "53f49a2a-97e9-4816-b488-28230b952351",
   "metadata": {},
   "outputs": [],
   "source": [
    "# Step 4: Feature Engineering\n",
    "df['trans_date_trans_time'] = pd.to_datetime(df['trans_date_trans_time'])\n",
    "df['hour'] = df['trans_date_trans_time'].dt.hour\n",
    "df['day'] = df['trans_date_trans_time'].dt.day\n",
    "df['month'] = df['trans_date_trans_time'].dt.month\n",
    "\n",
    "df['dob'] = pd.to_datetime(df['dob'])\n",
    "df['age'] = df['trans_date_trans_time'].dt.year - df['dob'].dt.year\n",
    "\n",
    "# Drop unnecessary columns\n",
    "df.drop(columns=['trans_date_trans_time', 'cc_num', 'first', 'last', 'dob',\n",
    "                 'street', 'city', 'state', 'zip', 'trans_num', 'unix_time', 'merchant', 'job'], inplace=True)\n",
    "\n",
    "# Encode categorical data\n",
    "le = LabelEncoder()\n",
    "df['category'] = le.fit_transform(df['category'])\n",
    "df['gender'] = le.fit_transform(df['gender'])\n",
    "\n"
   ]
  },
  {
   "cell_type": "code",
   "execution_count": 5,
   "id": "e9ff2535-5a72-4f71-a0b0-f9e63c856dfa",
   "metadata": {},
   "outputs": [],
   "source": [
    "# Step 5: Separate features and label\n",
    "X = df.drop('is_fraud', axis=1)\n",
    "y = df['is_fraud']\n",
    "\n"
   ]
  },
  {
   "cell_type": "code",
   "execution_count": 6,
   "id": "b784aa70-3b39-42ec-94e0-df8726113490",
   "metadata": {},
   "outputs": [],
   "source": [
    "# Step 6: Train-test split (90% train, 10% test)\n",
    "X_train, X_val, y_train, y_val = train_test_split(X, y, test_size=0.1, stratify=y, random_state=42)\n",
    "\n"
   ]
  },
  {
   "cell_type": "code",
   "execution_count": 7,
   "id": "e927b9f4-f559-42dd-aa7e-68c8c6f2a7cf",
   "metadata": {},
   "outputs": [],
   "source": [
    "# Step 7: Train models\n",
    "models = {\n",
    "    \"Logistic Regression\": LogisticRegression(max_iter=1000, class_weight='balanced'),\n",
    "    \"Decision Tree\": DecisionTreeClassifier(class_weight='balanced', random_state=42),\n",
    "    \"Random Forest\": RandomForestClassifier(n_estimators=100, class_weight='balanced', random_state=42)\n",
    "}\n",
    "\n"
   ]
  },
  {
   "cell_type": "code",
   "execution_count": 8,
   "id": "74d006c0-a259-45ac-b692-44dbe5492b41",
   "metadata": {},
   "outputs": [
    {
     "name": "stdout",
     "output_type": "stream",
     "text": [
      "\n",
      "Model: Logistic Regression\n"
     ]
    },
    {
     "name": "stderr",
     "output_type": "stream",
     "text": [
      "C:\\anaconda\\Lib\\site-packages\\sklearn\\linear_model\\_logistic.py:469: ConvergenceWarning: lbfgs failed to converge (status=1):\n",
      "STOP: TOTAL NO. of ITERATIONS REACHED LIMIT.\n",
      "\n",
      "Increase the number of iterations (max_iter) or scale the data as shown in:\n",
      "    https://scikit-learn.org/stable/modules/preprocessing.html\n",
      "Please also refer to the documentation for alternative solver options:\n",
      "    https://scikit-learn.org/stable/modules/linear_model.html#logistic-regression\n",
      "  n_iter_i = _check_optimize_result(\n"
     ]
    },
    {
     "name": "stdout",
     "output_type": "stream",
     "text": [
      "Confusion Matrix:\n",
      "[[174179  10096]\n",
      " [   230    735]]\n",
      "Classification Report:\n",
      "              precision    recall  f1-score   support\n",
      "\n",
      "           0       1.00      0.95      0.97    184275\n",
      "           1       0.07      0.76      0.12       965\n",
      "\n",
      "    accuracy                           0.94    185240\n",
      "   macro avg       0.53      0.85      0.55    185240\n",
      "weighted avg       0.99      0.94      0.97    185240\n",
      "\n",
      "ROC-AUC Score: 0.8645572826712723\n",
      "\n",
      "Model: Decision Tree\n",
      "Confusion Matrix:\n",
      "[[184122    153]\n",
      " [   168    797]]\n",
      "Classification Report:\n",
      "              precision    recall  f1-score   support\n",
      "\n",
      "           0       1.00      1.00      1.00    184275\n",
      "           1       0.84      0.83      0.83       965\n",
      "\n",
      "    accuracy                           1.00    185240\n",
      "   macro avg       0.92      0.91      0.92    185240\n",
      "weighted avg       1.00      1.00      1.00    185240\n",
      "\n",
      "ROC-AUC Score: 0.9125382274605073\n",
      "\n",
      "Model: Random Forest\n",
      "Confusion Matrix:\n",
      "[[184258     17]\n",
      " [   227    738]]\n",
      "Classification Report:\n",
      "              precision    recall  f1-score   support\n",
      "\n",
      "           0       1.00      1.00      1.00    184275\n",
      "           1       0.98      0.76      0.86       965\n",
      "\n",
      "    accuracy                           1.00    185240\n",
      "   macro avg       0.99      0.88      0.93    185240\n",
      "weighted avg       1.00      1.00      1.00    185240\n",
      "\n",
      "ROC-AUC Score: 0.9911039411557546\n"
     ]
    }
   ],
   "source": [
    "# Step 8: Evaluation\n",
    "for name, model in models.items():\n",
    "    print(f\"\\nModel: {name}\")\n",
    "    model.fit(X_train, y_train)\n",
    "    y_pred = model.predict(X_val)\n",
    "    print(\"Confusion Matrix:\")\n",
    "    print(confusion_matrix(y_val, y_pred))\n",
    "    print(\"Classification Report:\")\n",
    "    print(classification_report(y_val, y_pred))\n",
    "    print(\"ROC-AUC Score:\", roc_auc_score(y_val, model.predict_proba(X_val)[:, 1]))\n",
    "\n"
   ]
  },
  {
   "cell_type": "code",
   "execution_count": 9,
   "id": "6d51e626-1a52-42e8-89ba-c20f81cfe6f8",
   "metadata": {},
   "outputs": [
    {
     "data": {
      "image/png": "[encoded data removed]",
      "text/plain": [
       "<Figure size 1000x500 with 1 Axes>"
      ]
     },
     "metadata": {},
     "output_type": "display_data"
    }
   ],
   "source": [
    "# Optional: Feature importance for Random Forest\n",
    "feat_imp = models[\"Random Forest\"].feature_importances_\n",
    "imp_df = pd.Series(feat_imp, index=X.columns).sort_values(ascending=False)\n",
    "\n",
    "plt.figure(figsize=(10, 5))\n",
    "sns.barplot(x=imp_df.values[:10], y=imp_df.index[:10])\n",
    "plt.title(\"Top 10 Important Features (Random Forest)\")\n",
    "plt.show()\n"
   ]
  },
  {
   "cell_type": "code",
   "execution_count": null,
   "id": "f62fed2b-4641-499f-82b1-1ac729d0d4e3",
   "metadata": {},
   "outputs": [],
   "source": [
    "#Random Forest had the best accuracy and ROC-AUC.\n",
    "#Random Forest performed best, with 98% precision and 76% recall for fraud detection\n"
   ]
  }
 ],
 "metadata": {
  "kernelspec": {
   "display_name": "Python 3 (ipykernel)",
   "language": "python",
   "name": "python3"
  },
  "language_info": {
   "codemirror_mode": {
    "name": "ipython",
    "version": 3
   },
   "file_extension": ".py",
   "mimetype": "text/x-python",
   "name": "python",
   "nbconvert_exporter": "python",
   "pygments_lexer": "ipython3",
   "version": "3.12.4"
  }
 },
 "nbformat": 4,
 "nbformat_minor": 5
}
